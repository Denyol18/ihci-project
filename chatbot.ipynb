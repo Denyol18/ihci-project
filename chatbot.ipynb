{
  "nbformat": 4,
  "nbformat_minor": 0,
  "metadata": {
    "colab": {
      "provenance": []
    },
    "kernelspec": {
      "name": "python3",
      "display_name": "Python 3"
    },
    "language_info": {
      "name": "python"
    }
  },
  "cells": [
    {
      "cell_type": "code",
      "source": [
        "! pip install langchain langchain-community langchain-cohere langchain-huggingface chromadb jq gradio"
      ],
      "metadata": {
        "id": "uquK4chbjLTZ"
      },
      "execution_count": null,
      "outputs": []
    },
    {
      "cell_type": "code",
      "source": [
        "import gradio as gr\n",
        "import cohere\n",
        "import os\n",
        "import re\n",
        "import json\n",
        "from langchain.prompts import ChatPromptTemplate\n",
        "from langchain_community.document_loaders import JSONLoader\n",
        "from langchain_huggingface import HuggingFaceEmbeddings\n",
        "from langchain_community.vectorstores import Chroma\n",
        "from langchain_cohere import ChatCohere\n",
        "from langchain_core.output_parsers import StrOutputParser\n",
        "from langchain_core.runnables import RunnableLambda, RunnablePassthrough\n",
        "from google.colab import userdata\n",
        "\n",
        "os.environ['COHERE_API_KEY'] = userdata.get('COHERE_API_KEY')"
      ],
      "metadata": {
        "id": "RUZhuokEi_FB"
      },
      "execution_count": null,
      "outputs": []
    },
    {
      "cell_type": "markdown",
      "source": [
        "# Chatbot"
      ],
      "metadata": {
        "id": "BA5kix0yhUp3"
      }
    },
    {
      "cell_type": "code",
      "source": [
        "# games.json-t fell kell ez előtt tölteni!\n",
        "embedding_function = HuggingFaceEmbeddings(model_name=\"all-MiniLM-L6-v2\")\n",
        "\n",
        "loader = JSONLoader(file_path=\"games.json\", jq_schema=\".games[]\", text_content=False)\n",
        "documents = loader.load()"
      ],
      "metadata": {
        "id": "_Gar5Nfrb8mp"
      },
      "execution_count": null,
      "outputs": []
    },
    {
      "cell_type": "code",
      "source": [
        "persist_directory = \"./chroma_langchain_db\"\n",
        "vectordb = Chroma.from_documents(documents, embedding_function, persist_directory=persist_directory)"
      ],
      "metadata": {
        "id": "CjAOZFoqhGX-"
      },
      "execution_count": null,
      "outputs": []
    },
    {
      "cell_type": "code",
      "source": [
        "vectordb_loaded = Chroma(\n",
        "    persist_directory=persist_directory,\n",
        "    embedding_function=embedding_function\n",
        ")\n",
        "print(vectordb_loaded._collection.count())"
      ],
      "metadata": {
        "id": "r9Ho7NZsqC1K"
      },
      "execution_count": null,
      "outputs": []
    },
    {
      "cell_type": "code",
      "source": [
        "def query_rag(query_text):\n",
        "  results = vectordb_loaded.max_marginal_relevance_search(query=query_text, k=300, fetch_k=1500)\n",
        "  context_text = \"\\n\".join([doc.page_content for doc in results])\n",
        "\n",
        "  return context_text"
      ],
      "metadata": {
        "id": "6LWKWGgagmjd"
      },
      "execution_count": null,
      "outputs": []
    },
    {
      "cell_type": "code",
      "source": [
        "def collect_preferences(message, preferences):\n",
        "    print(f\"Current preferences before extraction: {preferences}\")\n",
        "\n",
        "    genre_names = [\n",
        "      \"Point-and-click\",\n",
        "      \"Fighting\",\n",
        "      \"Shooter\",\n",
        "      \"Music\",\n",
        "      \"Platform\",\n",
        "      \"Puzzle\",\n",
        "      \"Racing\",\n",
        "      \"Real Time Strategy (RTS)\",\n",
        "      \"Role-playing (RPG)\",\n",
        "      \"Simulator\",\n",
        "      \"Sport\",\n",
        "      \"Strategy\",\n",
        "      \"Turn-based strategy (TBS)\",\n",
        "      \"Tactical\",\n",
        "      \"Hack and slash/Beat 'em up\",\n",
        "      \"Quiz/Trivia\",\n",
        "      \"Pinball\",\n",
        "      \"Adventure\",\n",
        "      \"Indie\",\n",
        "      \"Arcade\",\n",
        "      \"Visual Novel\",\n",
        "      \"Card & Board Game\",\n",
        "      \"MOBA\"\n",
        "    ]\n",
        "\n",
        "    game_modes = [\n",
        "        \"Single player\",\n",
        "        \"Multiplayer\",\n",
        "        \"Co-operative\",\n",
        "        \"Split screen\",\n",
        "        \"Massively Multiplayer Online (MMO)\"\n",
        "        \"Battle Royale\"\n",
        "    ]\n",
        "\n",
        "    extraction_prompt = f\"\"\"\n",
        "    You are an expert assistant who manages user preferences about children's video games.\n",
        "\n",
        "    Task:\n",
        "    - You are given the CURRENT user preferences as a JSON dictionary.\n",
        "    - You are also given a NEW user message.\n",
        "    - Your job is to intelligently UPDATE the preferences based on the new message with the following lists: {genre_names}, {game_modes}\n",
        "    - Update existing child entries if the information is about the same child.\n",
        "    - Add new child entries if the user mentions a new child.\n",
        "    - Merge new genres, game modes, and platforms with existing ones without duplication.\n",
        "    - Respect any content to avoid preferences.\n",
        "    - If something is no longer valid (e.g., user says \"forget about racing games\"), REMOVE that data.\n",
        "    - If the user wants all preferences to be deleted or start over, then DELETE the CURRENT user preferences and CREATE a NEW empty one.\n",
        "    - If the user input is vague (e.g., \"fun\", \"educational\"), only update the genre field with up to five related genres from the list.\n",
        "      Do not guess game modes or platforms based on vague terms. Avoid inventing new children or unrelated preferences.\n",
        "    - If the CURRENT user preferences is empty, then create the JSON dictionary like this:\n",
        "\n",
        "      {{\n",
        "        \"children\": [\n",
        "          {{\n",
        "            \"age\": null,\n",
        "            \"genres\": [],\n",
        "            \"game_modes\": [],\n",
        "            \"platforms\": [],\n",
        "            \"content_to_avoid\": []\n",
        "          }},\n",
        "      }}\n",
        "\n",
        "      AND then edit it based on the NEW user message.\n",
        "    - Ignore the user message if that is not related to the topic.\n",
        "\n",
        "    RULES:\n",
        "    - Always respond with the FULL updated JSON, and ONLY the JSON. No extra text.\n",
        "    - Preserve all data not mentioned in the new message unless explicitly removed.\n",
        "    - Merge arrays without duplicates (e.g., genres, platforms).\n",
        "    - If no changes are needed, simply output the original JSON.\n",
        "\n",
        "    CURRENT USER PREFERENCES:\n",
        "    {json.dumps(preferences, indent=2)}\n",
        "\n",
        "    NEW USER MESSAGE:\n",
        "    \"{message}\"\n",
        "    \"\"\"\n",
        "\n",
        "    extraction_response = client.chat(\n",
        "        messages=[\n",
        "            {\"role\": \"system\", \"content\": extraction_prompt},\n",
        "            {\"role\": \"user\", \"content\": message}\n",
        "        ],\n",
        "        model=COHERE_MODEL,\n",
        "    )\n",
        "\n",
        "    raw_output = extraction_response.message.content[0].text.strip()\n",
        "    cleaned_output = re.sub(r\"^```json\\s*|\\s*```$\", \"\", raw_output).strip()\n",
        "\n",
        "    try:\n",
        "        updated_preferences = json.loads(cleaned_output)\n",
        "    except json.JSONDecodeError:\n",
        "        print(f\"Error parsing extracted JSON: {raw_output}\")\n",
        "        updated_preferences = preferences\n",
        "\n",
        "    print(f\"Updated preferences after extraction: {updated_preferences}\")\n",
        "    return updated_preferences"
      ],
      "metadata": {
        "id": "4qPJ6z3HbSX9"
      },
      "execution_count": null,
      "outputs": []
    },
    {
      "cell_type": "code",
      "source": [
        "def missing_info(preferences):\n",
        "  for child in preferences['children']:\n",
        "      if child['age'] is None or not child['genres'] or not child['game_modes'] or not child['platforms']:\n",
        "        return True\n",
        "\n",
        "  return False"
      ],
      "metadata": {
        "id": "9N3MSpI6JAxp"
      },
      "execution_count": null,
      "outputs": []
    },
    {
      "cell_type": "code",
      "source": [
        "client = cohere.ClientV2(os.environ['COHERE_API_KEY'])\n",
        "COHERE_MODEL = \"command-a-03-2025\"\n",
        "\n",
        "user_preferences = {}\n",
        "\n",
        "def respond(message, history):\n",
        "      global user_preferences\n",
        "      user_preferences = collect_preferences(message, user_preferences)\n",
        "\n",
        "      if not missing_info(user_preferences):\n",
        "        filtered = {\n",
        "          'genres': [],\n",
        "          'game_modes': [],\n",
        "          'platforms': []\n",
        "        }\n",
        "\n",
        "        for child in user_preferences['children']:\n",
        "          filtered['genres'].extend(child.get('genres', []))\n",
        "          filtered['game_modes'].extend(child.get('game_modes', []))\n",
        "          filtered['platforms'].extend(child.get('platforms', []))\n",
        "\n",
        "        filtered = {k: list(set(v)) for k, v in filtered.items()}\n",
        "\n",
        "        games = query_rag(str(filtered))\n",
        "\n",
        "      else: games = {}\n",
        "\n",
        "      #print(games)\n",
        "      #print(user_preferences)\n",
        "      system_message = f\"\"\"\n",
        "      You are a friendly and expert video game recommendation assistant helping parents find appropriate games for their children.\n",
        "\n",
        "      Your job involves the following:\n",
        "\n",
        "      1. You are given the user's extracted preferences in JSON format:\n",
        "      {json.dumps(user_preferences, indent=2)}\n",
        "\n",
        "      2. Check the data for completeness:\n",
        "        - For each child, the following fields MUST be filled:\n",
        "          - \"age\" must not be null.\n",
        "          - \"genres\" must have at least one value.\n",
        "          - \"game_modes\" must have at least one value.\n",
        "          - \"platforms\" must have at least one value.\n",
        "          - \"content_to_avoid\" can be empty, but should be present and also ask the user about this as well.\n",
        "\n",
        "      3. If ANY required data is missing for any child:\n",
        "        - DO NOT suggest games yet.\n",
        "        - ONLY ask for the missing details, not the ones already filled in.\n",
        "        - Be polite and encouraging, acknowledging what is already known.\n",
        "        - Be specific and list *only* what is missing per child.\n",
        "        - Wait for the user's response before continuing.\n",
        "        - If the user input was vague (see here:{message}), then make sure to tell them how it was interpreted relating to the genres.\n",
        "\n",
        "      4. Only AFTER all required data is complete for all children:\n",
        "        - Use the context below to find matching games.\n",
        "        - DO NOT invent games or use outside knowledge.\n",
        "        - Only recommend games from this context:\n",
        "        {games}\n",
        "\n",
        "      5. For each child, recommend exactly five games that:\n",
        "        - Match their genre, platform, and game mode preferences.\n",
        "        - Are appropriate for their age.\n",
        "        - Do NOT contain any content the parent wants to avoid.\n",
        "\n",
        "      6. If a requested genre is unsuitable for the child's age, offer safer alternatives with an explanation.\n",
        "\n",
        "      7. NEVER recommend the same game more than once in a session.\n",
        "\n",
        "      8. When ready, use the following format for each game:\n",
        "\n",
        "      Game 1:\n",
        "      - Name: [Title of the game from the context]\n",
        "      - Genres: [List of all genres from the context separated by commas word for word]\n",
        "      - Themes: [List of all themes from the context separated by commas word for word, if any]\n",
        "      - Age Ratings: [List of all age ratings from the context separated by commas word for word]\n",
        "      - Game Modes: [List of all game modes from the context separated by commas word for word]\n",
        "      - Platforms: [List of all platforms from the context on which the game is available separated by commas word for word]\n",
        "      - Summary: [The summary of the game word for word from the context]\n",
        "      - Reasons for recommendation\n",
        "\n",
        "      9. After recommending, ask the user:\n",
        "        - If they're satisfied.\n",
        "        - If they'd like to update preferences or receive more recommendations.\n",
        "\n",
        "      Only proceed to recommendations when you are 100% certain all required data is present and valid.\n",
        "      \"\"\"\n",
        "\n",
        "      messages = [{\"role\": \"system\", \"content\": system_message}]\n",
        "\n",
        "      for val in history:\n",
        "          if val[0]:\n",
        "              messages.append({\"role\": \"user\", \"content\": val[0]})\n",
        "          if val[1]:\n",
        "              messages.append({\"role\": \"assistant\", \"content\": val[1]})\n",
        "\n",
        "      messages.append({\"role\": \"user\", \"content\": message})\n",
        "\n",
        "      response = client.chat(\n",
        "          messages=messages,\n",
        "          model=COHERE_MODEL,\n",
        "      )\n",
        "\n",
        "      text_output = response.message.content[0].text\n",
        "\n",
        "      return text_output"
      ],
      "metadata": {
        "id": "1Kst9Ovr8PS-"
      },
      "execution_count": null,
      "outputs": []
    },
    {
      "cell_type": "code",
      "source": [
        "demo = gr.ChatInterface(\n",
        "    respond,\n",
        "    chatbot=gr.Chatbot(value=[[None,\n",
        "        \"\"\"\n",
        "        Hi there! I'm here to help you find the perfect video games for your child. To get started, could you please provide the following information:\n",
        "\n",
        "        1. Age of the child: This will help ensure the games are age-appropriate.\n",
        "        2. Preferred genres: What types of games do they enjoy? (e.g., adventure, sports, puzzle)\n",
        "        3. Game mode preferences: Do they prefer single-player, multiplayer, or both?\n",
        "        4. Platforms: Which devices do you have? (e.g., PC, PlayStation, Xbox, Nintendo Switch)\n",
        "        5. Content to avoid: Are there any themes or contents you'd like to avoid? (e.g., violence, horror)\n",
        "\n",
        "        If there are multiple children, please provide details for each. Once I have all the information, I’ll suggest five suitable games for each child!\n",
        "        \"\"\"\n",
        "        ]]),\n",
        "    title=\"Videogame Recommender Chatbot\"\n",
        ")\n",
        "\n",
        "if __name__ == \"__main__\":\n",
        "    demo.launch(debug=True)"
      ],
      "metadata": {
        "id": "kg0clGS0hkhi"
      },
      "execution_count": null,
      "outputs": []
    }
  ]
}